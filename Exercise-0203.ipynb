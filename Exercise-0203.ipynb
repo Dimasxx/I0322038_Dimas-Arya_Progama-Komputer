{
 "cells": [
  {
   "cell_type": "code",
   "execution_count": null,
   "metadata": {},
   "outputs": [],
   "source": [
    "print(input(\"Nama:Dimas Arya Santosa \"))\n",
    "print(input(\"NIM:I0322038 \"))\n",
    "print(input(\"Kelas:B\"))"
   ]
  },
  {
   "attachments": {},
   "cell_type": "markdown",
   "metadata": {},
   "source": [
    "## 1."
   ]
  },
  {
   "attachments": {},
   "cell_type": "markdown",
   "metadata": {},
   "source": [
    "* **A** Hitunglah luas Prisma Segitiga dengan ketentuan sebagai berikut:\n",
    "    * Alas dan tutup prisma merupakan segitiga\n",
    "    * Terdapat 3 persegi panjang yang menyinggung alas dan tutup prisma\n",
    "    * Sisi persegi panjang yang menyinggung segitiga adalah sisi lebar\n",
    "```python\n",
    "    dictionary_figure = {\"Persegi\":{\"Sisi\":22},\n",
    "                        \"Persegi Panjang\":{\"Panjang\":10,\"Lebar\":5},\n",
    "                        \"Segitiga Sama Sisi\":{\"Sisi\":6,\"Tinggi\":3**(1/2) * 3},\n",
    "                        \"Lingkaran\":{\"Diameter\":7}}\n",
    "```\n",
    "* **B** Hitunglah luas Tabung dengan ketentuan sebagai berikut:\n",
    "    * Alas dan tutup tabung merupakan lingkaran\n",
    "    * Terdapat 1 persegi yang menyinggung alas dan tutup tabung\n",
    "    * Persegi yang ada mengelilingi lingkaran hingga sisi dari persegi saling bertemu\n",
    "\n",
    "> **note:** *Pada soal ini kalian hanya boleh menggunakan key-value pair dan index pada list. Tidak diperbolehkan menulis secara langsung dimensi dari figure*"
   ]
  },
  {
   "cell_type": "code",
   "execution_count": 17,
   "metadata": {},
   "outputs": [
    {
     "name": "stdout",
     "output_type": "stream",
     "text": [
      "Luas prisma segitiga adalah : 181.1769145362398\n",
      "Luas tabung lingkaran adalah : 560.9300000000001\n"
     ]
    }
   ],
   "source": [
    "dictionary_figure = {\"Persegi\":{\"Sisi\":22},\n",
    "                     \"Persegi Panjang\":{\"Panjang\":10,\"Lebar\":5},\n",
    "                     \"Segitiga Sama Sisi\":{\"Sisi\":6,\"Tinggi\":3**(1/2) * 3},\n",
    "                     \"Lingkaran\":{\"Diameter\":7}}\n",
    "\n",
    "luas_segitiga_sama_sisi = 1/2 * (dictionary_figure [\"Segitiga Sama Sisi\"] [\"Sisi\"]) * (dictionary_figure [\"Segitiga Sama Sisi\"] [\"Tinggi\"])\n",
    "luas_persegi_panjang = (dictionary_figure [\"Persegi Panjang\"] [\"Panjang\"]) * (dictionary_figure [\"Persegi Panjang\"] [\"Lebar\"])\n",
    "luas_lingkaran = 3.14 * ((dictionary_figure [\"Lingkaran\"] [\"Diameter\"])/2) ** 2\n",
    "luas_persegi = (dictionary_figure [\"Persegi\"] [\"Sisi\"])**2\n",
    "\n",
    "luas_prisma_segitiga = 2 * luas_segitiga_sama_sisi + 3 * luas_persegi_panjang\n",
    "luas_tabung = 2 * luas_lingkaran + luas_persegi\n",
    "\n",
    "print (\"Luas prisma segitiga adalah :\", luas_prisma_segitiga)\n",
    "print (\"Luas tabung lingkaran adalah :\", luas_tabung)"
   ]
  },
  {
   "attachments": {},
   "cell_type": "markdown",
   "metadata": {},
   "source": [
    "## 2."
   ]
  },
  {
   "attachments": {},
   "cell_type": "markdown",
   "metadata": {},
   "source": [
    "Diberikan List sebagai berikut\n",
    "```Python\n",
    "    data = [8, 8, 4, 6, 8, 9, 6, 5, 4, 7]\n",
    "```\n",
    "* Tambahkan 3 angka baru ke dalam list\n",
    "* Tampilkan output list dengan berurutan dari yang terkecil hingga yang terbesar\n",
    "* Tentukan mean, median, dan modus pada list baru"
   ]
  },
  {
   "cell_type": "code",
   "execution_count": 3,
   "metadata": {},
   "outputs": [
    {
     "name": "stdout",
     "output_type": "stream",
     "text": [
      "urutan List data yang anda miliki adalah [4, 4, 4, 5, 6, 6, 6, 6, 7, 8, 8, 8, 9]\n",
      "mean yang didapat berdasarkan data milik anda adalah 6.230769230769231\n",
      "median yang didapat berdasarkan data milik anda adalah 6\n",
      "modus yang didapat berdasarkan data milik anda adalah 6\n"
     ]
    }
   ],
   "source": [
    "a1 = int(input(\"Masukkan angka pertama\"))\n",
    "a2 = int(input(\"Masukkan angka Kedua\"))\n",
    "a3 = int(input(\"Masukkan angka Ketiga\"))\n",
    "a4 = [8, 8, 4, 6, 8, 9, 6, 5, 4, 7]\n",
    "\n",
    "a5 = [a1,a2,a3] \n",
    "a4.extend(a5)\n",
    "a4.sort ()\n",
    "print( \"urutan List data yang anda miliki adalah\", a4)\n",
    "\n",
    "m1 = (sum(a4))/13 #mean\n",
    "m2 = a4 [6] #median\n",
    "m3 = max (a4, key=a4.count) #modus\n",
    "\n",
    "print (\"mean yang didapat berdasarkan data milik anda adalah\", m1)\n",
    "print (\"median yang didapat berdasarkan data milik anda adalah\", m2)\n",
    "print (\"modus yang didapat berdasarkan data milik anda adalah\", m3)"
   ]
  },
  {
   "attachments": {},
   "cell_type": "markdown",
   "metadata": {},
   "source": [
    "## 3. "
   ]
  },
  {
   "attachments": {},
   "cell_type": "markdown",
   "metadata": {},
   "source": [
    "Dalam pembuatan SIM ada beberapa syarat yang harus dipenuhi bagi para pembuat SIM yaitu:\n",
    "1. Pembuat SIM harus memiliki usia setidaknya 17 tahun\n",
    "2. Pembuat SIM lulus dalam tes kesehatan\n",
    "3. Pembuat SIM lulus dalam uji psikotes\n",
    "4. Pembuat SIM telah mengikuti ujian tertulis dengan nilai setidaknya 70\n",
    "5. Pembuat SIM lulus dalam simulasi berkendara\n",
    "6. Apabila pembuat SIM memiliki surat rekomendasi dari kursus berkendara maka pembuat SIM akan mendapatkan SIM (mengabaikan poin 1-5 apabila poin ke-6 terpenuhi)\n",
    "\n",
    "Buatlah input yang membuat setiap poin menjadi variabel. Output yang dihasilkan merupakan \"True\" apabila pembuat berhak mendapatkan SIM dan \"False\" apabila pembuat tidak berhak mendapatkan SIM.\n",
    "\n",
    "> **note:** *Tidak perlu menggunakan loops dalam membuat programnya*"
   ]
  },
  {
   "cell_type": "code",
   "execution_count": 22,
   "metadata": {},
   "outputs": [
    {
     "name": "stdout",
     "output_type": "stream",
     "text": [
      "Apakah atas nama Dimas usia 19 tahun, layak mendapatkan SIM? TIDAK\n"
     ]
    }
   ],
   "source": [
    "nama = str(input(\"Masukkan nama anda:\"))\n",
    "umur = int(input(\"Berapa usia anda sekarang?\"))\n",
    "kesehatan = str(input(\"Apakah anda lulus tes kesehatan? (LULUS/TIDAK)\"))\n",
    "psikotes = str(input(\"Apakah anda lulus tes psikotes? (LULUS/TIDAK)\"))\n",
    "ujian = float(input(\"Berapa skor Ujian tertulis anda? (1-100)\"))\n",
    "simulasi = str(input(\"Apakah anda lulus tes simulasi? (LULUS/TIDAK)\"))\n",
    "surat = str(input(\"Apakah Anda memiliki Surat Rekomendasi dari Kursus? (PUNYA/TIDAK)\"))\n",
    "\n",
    "PUNYA = True\n",
    "LULUS = True\n",
    "TIDAK = False\n",
    "status = LULUS or TIDAK\n",
    "usia = umur >= 17\n",
    "ujian_tulis = 70 >= ujian >= 100\n",
    "\n",
    "a = (umur and kesehatan and psikotes and ujian and simulasi) or surat\n",
    "\n",
    "\n",
    "print (\"Apakah atas nama\", nama, \"usia\", umur, \"tahun, layak mendapatkan SIM?\", a) "
   ]
  }
 ],
 "metadata": {
  "kernelspec": {
   "display_name": "Python 3",
   "language": "python",
   "name": "python3"
  },
  "language_info": {
   "codemirror_mode": {
    "name": "ipython",
    "version": 3
   },
   "file_extension": ".py",
   "mimetype": "text/x-python",
   "name": "python",
   "nbconvert_exporter": "python",
   "pygments_lexer": "ipython3",
   "version": "3.10.8"
  },
  "orig_nbformat": 4,
  "vscode": {
   "interpreter": {
    "hash": "5addf786bcd861d1ce5006f23111f8cbb206731e5b61b0a5632ba9e0252558a8"
   }
  }
 },
 "nbformat": 4,
 "nbformat_minor": 2
}
