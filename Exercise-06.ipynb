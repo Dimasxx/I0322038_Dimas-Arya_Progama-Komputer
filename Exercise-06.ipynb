{
 "cells": [
  {
   "attachments": {},
   "cell_type": "markdown",
   "metadata": {},
   "source": [
    "1. Tulis program dengan fungsi untuk menentukan yang paling besar dari empat angka yang diberikan!\n",
    "     ###### Note: Angka ditentukan sendiri oleh praktikan"
   ]
  },
  {
   "cell_type": "code",
   "execution_count": 1,
   "metadata": {},
   "outputs": [
    {
     "name": "stdout",
     "output_type": "stream",
     "text": [
      "angka yang paling besar adalah 6.0\n"
     ]
    }
   ],
   "source": [
    "# Kerjakan Nomor 1 di bawah ini\n",
    "\n",
    "bil1=float(input(\"masukkan angka pertama\"))\n",
    "bil2=float(input(\"masukkan angka kedua\"))\n",
    "bil3=float(input(\"masukkan angka ketiga\"))\n",
    "bil4=float(input(\"masukkan angka keempat\"))\n",
    "\n",
    "print(f\"angka yang paling besar adalah {max(bil1,bil2,bil3,bil4)}\")"
   ]
  },
  {
   "attachments": {},
   "cell_type": "markdown",
   "metadata": {},
   "source": [
    "2. Tulis fungsi Python yang mengambil list awal dan menampilkan list baru dengan angka unik (tidak ada angka yang sama) dari list yang pertama."
   ]
  },
  {
   "cell_type": "code",
   "execution_count": null,
   "metadata": {},
   "outputs": [],
   "source": [
    "list_awal = [9,9,9,9,9,9,9,10,11,13,14,15,17,19]"
   ]
  },
  {
   "cell_type": "code",
   "execution_count": 2,
   "metadata": {},
   "outputs": [
    {
     "name": "stdout",
     "output_type": "stream",
     "text": [
      "[9, 10, 11, 13, 14, 15, 17, 19]\n"
     ]
    }
   ],
   "source": [
    "# Kerjakan Nomor 2 di bawah ini\n",
    "def angka_unik (list_awal):\n",
    "    list_unik = []\n",
    "    for angka in list_awal:\n",
    "        if angka not in list_unik:\n",
    "            list_unik.append(angka)\n",
    "    return list_unik\n",
    "\n",
    "list_awal = [9,9,9,9,9,9,9,10,11,13,14,15,17,19]\n",
    "list_unik=angka_unik(list_awal)\n",
    "print(list_unik)"
   ]
  },
  {
   "attachments": {},
   "cell_type": "markdown",
   "metadata": {},
   "source": [
    "3. Hitunglah 2 angka yang dapat diinputkan dengan angka kedua menjadi pangkat bagi angka pertama, dan angka kedua menjadi pembagi angka pertama (tampilkan juga sisa hasil pembagiannya) \n",
    "\n",
    "clue : gunakan fungsi yang ada di built-in tanpa menggunakan sintaks operator seperti * ataupun /."
   ]
  },
  {
   "cell_type": "code",
   "execution_count": 3,
   "metadata": {},
   "outputs": [
    {
     "name": "stdout",
     "output_type": "stream",
     "text": [
      "3200000\n",
      "(4, 0)\n"
     ]
    }
   ],
   "source": [
    "# Kerjakan Nomor 3 di bawah ini\n",
    "def bilangan(bil1, bil2) :\n",
    "    pangkat = pow (bil1, bil2)\n",
    "    pembagian = divmod (bil1, bil2)\n",
    "    print (pangkat)\n",
    "    print (pembagian)\n",
    "\n",
    "bilangan(20, 5)"
   ]
  }
 ],
 "metadata": {
  "kernelspec": {
   "display_name": "Python 3",
   "language": "python",
   "name": "python3"
  },
  "language_info": {
   "codemirror_mode": {
    "name": "ipython",
    "version": 3
   },
   "file_extension": ".py",
   "mimetype": "text/x-python",
   "name": "python",
   "nbconvert_exporter": "python",
   "pygments_lexer": "ipython3",
   "version": "3.10.8"
  },
  "orig_nbformat": 4,
  "vscode": {
   "interpreter": {
    "hash": "5addf786bcd861d1ce5006f23111f8cbb206731e5b61b0a5632ba9e0252558a8"
   }
  }
 },
 "nbformat": 4,
 "nbformat_minor": 2
}
